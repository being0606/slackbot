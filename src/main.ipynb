{
 "cells": [
  {
   "cell_type": "code",
   "execution_count": 3,
   "metadata": {},
   "outputs": [
    {
     "name": "stdout",
     "output_type": "stream",
     "text": [
      "Defaulting to user installation because normal site-packages is not writeable\n",
      "Collecting slack-sdk\n",
      "  Downloading slack_sdk-3.27.1-py2.py3-none-any.whl (285 kB)\n",
      "\u001b[K     |████████████████████████████████| 285 kB 6.1 MB/s eta 0:00:01\n",
      "\u001b[?25hInstalling collected packages: slack-sdk\n",
      "Successfully installed slack-sdk-3.27.1\n",
      "\u001b[33mWARNING: You are using pip version 21.2.4; however, version 24.0 is available.\n",
      "You should consider upgrading via the '/Applications/Xcode.app/Contents/Developer/usr/bin/python3 -m pip install --upgrade pip' command.\u001b[0m\n",
      "Note: you may need to restart the kernel to use updated packages.\n"
     ]
    }
   ],
   "source": [
    "pip install slack-sdk"
   ]
  },
  {
   "cell_type": "code",
   "execution_count": 4,
   "metadata": {},
   "outputs": [],
   "source": [
    "from slack_sdk import WebClient\n",
    "\n",
    "class SlackAPI:\n",
    "    \"\"\"\n",
    "    슬랙 API 핸들러\n",
    "    \"\"\"\n",
    "    def __init__(self, token):\n",
    "        # 슬랙 클라이언트 인스턴스 생성\n",
    "        self.client = WebClient(token)\n",
    "        \n",
    "    def get_channel_id(self, channel_name):\n",
    "        \"\"\"\n",
    "        슬랙 채널ID 조회\n",
    "        \"\"\"\n",
    "        # conversations_list() 메서드 호출\n",
    "        result = self.client.conversations_list()\n",
    "        # 채널 정보 딕셔너리 리스트\n",
    "        channels = result.data['channels']\n",
    "        # 채널 명이 'test'인 채널 딕셔너리 쿼리\n",
    "        channel = list(filter(lambda c: c[\"name\"] == channel_name, channels))[0]\n",
    "        # 채널ID 파싱\n",
    "        channel_id = channel[\"id\"]\n",
    "        return channel_id\n",
    "\n",
    "    def get_message_ts(self, channel_id, query):\n",
    "        \"\"\"\n",
    "        슬랙 채널 내 메세지 조회\n",
    "        \"\"\"\n",
    "        # conversations_history() 메서드 호출\n",
    "        result = self.client.conversations_history(channel=channel_id)\n",
    "        # 채널 내 메세지 정보 딕셔너리 리스트\n",
    "        messages = result.data['messages']\n",
    "        # 채널 내 메세지가 query와 일치하는 메세지 딕셔너리 쿼리\n",
    "        message = list(filter(lambda m: m[\"text\"]==query, messages))[0]\n",
    "        # 해당 메세지ts 파싱\n",
    "        message_ts = message[\"ts\"]\n",
    "        return message_ts\n",
    "\n",
    "    def post_thread_message(self, channel_id, message_ts, text):\n",
    "        \"\"\"\n",
    "        슬랙 채널 내 메세지의 Thread에 댓글 달기\n",
    "        \"\"\"\n",
    "        # chat_postMessage() 메서드 호출\n",
    "        result = self.client.chat_postMessage(\n",
    "            channel=channel_id,\n",
    "            text = text,\n",
    "            thread_ts = message_ts\n",
    "        )\n",
    "        return result\n",
    "\n",
    "    def post_message(self, channel_id, text):\n",
    "        \"\"\"\n",
    "        슬랙 채널에 메세지 보내기\n",
    "        \"\"\"\n",
    "        # chat_postMessage() 메서드 호출\n",
    "        result = self.client.chat_postMessage(\n",
    "            channel=channel_id,\n",
    "            text=text\n",
    "        )\n",
    "        return result"
   ]
  },
  {
   "cell_type": "code",
   "execution_count": 6,
   "metadata": {},
   "outputs": [],
   "source": [
    "token = \"<<Slack API Token>>\n",
    "slack = SlackAPI(token)"
   ]
  },
  {
   "cell_type": "code",
   "execution_count": 13,
   "metadata": {},
   "outputs": [
    {
     "data": {
      "text/plain": [
       "<slack_sdk.web.slack_response.SlackResponse at 0x10a38bdf0>"
      ]
     },
     "execution_count": 13,
     "metadata": {},
     "output_type": "execute_result"
    }
   ],
   "source": [
    "import slack_sdk\n",
    "\n",
    "channel_name = \"slackbot-by-python\"\n",
    "query = \"슬랙 봇 테스트\"\n",
    "text = \"자동 생성 문구 테스트\"\n",
    "\n",
    "client = slack_sdk.WebClient(token=token)\n",
    "client.chat_postMessage(channel=channel_name, text=text)"
   ]
  },
  {
   "cell_type": "code",
   "execution_count": null,
   "metadata": {},
   "outputs": [],
   "source": []
  }
 ],
 "metadata": {
  "kernelspec": {
   "display_name": "Python 3",
   "language": "python",
   "name": "python3"
  },
  "language_info": {
   "codemirror_mode": {
    "name": "ipython",
    "version": 3
   },
   "file_extension": ".py",
   "mimetype": "text/x-python",
   "name": "python",
   "nbconvert_exporter": "python",
   "pygments_lexer": "ipython3",
   "version": "3.9.6"
  }
 },
 "nbformat": 4,
 "nbformat_minor": 2
}
